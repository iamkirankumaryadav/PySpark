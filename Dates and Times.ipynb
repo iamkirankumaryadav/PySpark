{
 "cells": [
  {
   "cell_type": "code",
   "execution_count": 1,
   "id": "7e6dd8bd-f18f-4e02-8f6a-e1a5e1756609",
   "metadata": {},
   "outputs": [],
   "source": [
    "from pyspark.sql import SparkSession"
   ]
  },
  {
   "cell_type": "code",
   "execution_count": 2,
   "id": "2e52ddfd-56dc-4e8c-822a-36a4525a3c51",
   "metadata": {},
   "outputs": [],
   "source": [
    "spark = SparkSession.builder.appName('dates and times').getOrCreate()"
   ]
  },
  {
   "cell_type": "code",
   "execution_count": 3,
   "id": "3c0d3ba8-99c0-4e27-8ebc-f7652dbe456c",
   "metadata": {},
   "outputs": [],
   "source": [
    "sdf = spark.read.csv('./Data/stock.csv', inferSchema=True, header=True)"
   ]
  },
  {
   "cell_type": "code",
   "execution_count": 4,
   "id": "58343f5b-ea51-46c7-8e71-572b41ed910a",
   "metadata": {},
   "outputs": [
    {
     "name": "stdout",
     "output_type": "stream",
     "text": [
      "+----------+----------+----------+------------------+------------------+---------+------------------+\n",
      "|      Date|      Open|      High|               Low|             Close|   Volume|         Adj Close|\n",
      "+----------+----------+----------+------------------+------------------+---------+------------------+\n",
      "|2010-01-04|213.429998|214.499996|212.38000099999996|        214.009998|123432400|         27.727039|\n",
      "|2010-01-05|214.599998|215.589994|        213.249994|        214.379993|150476200|27.774976000000002|\n",
      "|2010-01-06|214.379993|    215.23|        210.750004|        210.969995|138040000|27.333178000000004|\n",
      "|2010-01-07|    211.75|212.000006|        209.050005|            210.58|119282800|          27.28265|\n",
      "|2010-01-08|210.299994|212.000006|209.06000500000002|211.98000499999998|111902700|         27.464034|\n",
      "+----------+----------+----------+------------------+------------------+---------+------------------+\n",
      "only showing top 5 rows\n",
      "\n"
     ]
    }
   ],
   "source": [
    "sdf.show(5)"
   ]
  },
  {
   "cell_type": "code",
   "execution_count": 5,
   "id": "29de88d5-767d-4ff9-bb8c-511b0a339f19",
   "metadata": {},
   "outputs": [
    {
     "name": "stdout",
     "output_type": "stream",
     "text": [
      "+----------+\n",
      "|      Date|\n",
      "+----------+\n",
      "|2010-01-04|\n",
      "|2010-01-05|\n",
      "|2010-01-06|\n",
      "|2010-01-07|\n",
      "|2010-01-08|\n",
      "+----------+\n",
      "only showing top 5 rows\n",
      "\n"
     ]
    }
   ],
   "source": [
    "sdf.select('Date').show(5)"
   ]
  },
  {
   "cell_type": "code",
   "execution_count": 6,
   "id": "48ea10a5-5196-4b1f-b2da-6182abaed3ab",
   "metadata": {},
   "outputs": [],
   "source": [
    "from pyspark.sql.functions import dayofmonth, hour, minute, year, weekofyear, format_number, date_format, month"
   ]
  },
  {
   "cell_type": "code",
   "execution_count": 7,
   "id": "05e25f3d-dd3a-4dc1-b42c-94dfffa18a03",
   "metadata": {},
   "outputs": [
    {
     "name": "stdout",
     "output_type": "stream",
     "text": [
      "+------------+\n",
      "|Day of Month|\n",
      "+------------+\n",
      "|           4|\n",
      "|           5|\n",
      "|           6|\n",
      "|           7|\n",
      "|           8|\n",
      "+------------+\n",
      "only showing top 5 rows\n",
      "\n"
     ]
    }
   ],
   "source": [
    "sdf.select(dayofmonth(sdf['Date']).alias('Day of Month')).show(5)"
   ]
  },
  {
   "cell_type": "code",
   "execution_count": 8,
   "id": "101d2213-3b1f-42ce-bfc3-370cc2359a4d",
   "metadata": {},
   "outputs": [
    {
     "name": "stdout",
     "output_type": "stream",
     "text": [
      "+-----+\n",
      "|Month|\n",
      "+-----+\n",
      "|    1|\n",
      "|    1|\n",
      "|    1|\n",
      "|    1|\n",
      "|    1|\n",
      "+-----+\n",
      "only showing top 5 rows\n",
      "\n"
     ]
    }
   ],
   "source": [
    "sdf.select(month(sdf['Date']).alias('Month')).show(5)"
   ]
  },
  {
   "cell_type": "code",
   "execution_count": 9,
   "id": "c07ac6f5-171c-4c9b-ad0d-2e1c580e88b8",
   "metadata": {},
   "outputs": [
    {
     "name": "stdout",
     "output_type": "stream",
     "text": [
      "+----+\n",
      "|Year|\n",
      "+----+\n",
      "|2010|\n",
      "|2010|\n",
      "|2010|\n",
      "|2010|\n",
      "|2010|\n",
      "+----+\n",
      "only showing top 5 rows\n",
      "\n"
     ]
    }
   ],
   "source": [
    "sdf.select(year(sdf['Date']).alias('Year')).show(5)"
   ]
  },
  {
   "cell_type": "code",
   "execution_count": 10,
   "id": "46db5dce-35f4-421e-aa4b-62ce4cc1a0bc",
   "metadata": {},
   "outputs": [
    {
     "name": "stdout",
     "output_type": "stream",
     "text": [
      "+------------+\n",
      "|Week of Year|\n",
      "+------------+\n",
      "|           1|\n",
      "|           1|\n",
      "|           1|\n",
      "|           1|\n",
      "|           1|\n",
      "+------------+\n",
      "only showing top 5 rows\n",
      "\n"
     ]
    }
   ],
   "source": [
    "sdf.select(weekofyear(sdf['Date']).alias('Week of Year')).show(5)"
   ]
  },
  {
   "cell_type": "code",
   "execution_count": 11,
   "id": "c49ab2a8-0fba-4bbb-92b5-485258cedf4e",
   "metadata": {},
   "outputs": [
    {
     "name": "stdout",
     "output_type": "stream",
     "text": [
      "+----------+------------------+------------------+------------------+------------------+---------+------------------+----+\n",
      "|      Date|              Open|              High|               Low|             Close|   Volume|         Adj Close|Year|\n",
      "+----------+------------------+------------------+------------------+------------------+---------+------------------+----+\n",
      "|2010-01-04|        213.429998|        214.499996|212.38000099999996|        214.009998|123432400|         27.727039|2010|\n",
      "|2010-01-05|        214.599998|        215.589994|        213.249994|        214.379993|150476200|27.774976000000002|2010|\n",
      "|2010-01-06|        214.379993|            215.23|        210.750004|        210.969995|138040000|27.333178000000004|2010|\n",
      "|2010-01-07|            211.75|        212.000006|        209.050005|            210.58|119282800|          27.28265|2010|\n",
      "|2010-01-08|        210.299994|        212.000006|209.06000500000002|211.98000499999998|111902700|         27.464034|2010|\n",
      "|2010-01-11|212.79999700000002|        213.000002|        208.450005|210.11000299999998|115557400|         27.221758|2010|\n",
      "|2010-01-12|209.18999499999998|209.76999500000002|        206.419998|        207.720001|148614900|          26.91211|2010|\n",
      "|2010-01-13|        207.870005|210.92999500000002|        204.099998|        210.650002|151473000|          27.29172|2010|\n",
      "|2010-01-14|210.11000299999998|210.45999700000002|        209.020004|            209.43|108223500|         27.133657|2010|\n",
      "|2010-01-15|210.92999500000002|211.59999700000003|        205.869999|            205.93|148516900|26.680197999999997|2010|\n",
      "+----------+------------------+------------------+------------------+------------------+---------+------------------+----+\n",
      "only showing top 10 rows\n",
      "\n"
     ]
    }
   ],
   "source": [
    "sdf.withColumn(colName='Year', col=year(sdf['Date'])).show(10)"
   ]
  },
  {
   "cell_type": "code",
   "execution_count": 12,
   "id": "2be94362-1329-4fc5-9ec0-4b8690fdef6c",
   "metadata": {},
   "outputs": [],
   "source": [
    "new_df = sdf.withColumn(colName='Year', col=year(sdf['Date']))"
   ]
  },
  {
   "cell_type": "code",
   "execution_count": 13,
   "id": "1919c852-7693-4fe2-82d4-68a57fd84f89",
   "metadata": {},
   "outputs": [
    {
     "name": "stdout",
     "output_type": "stream",
     "text": [
      "+----+---------+------------------+------------------+------------------+------------------+\n",
      "|Year|avg(Year)|         avg(Open)|        avg(Close)|         avg(High)|          avg(Low)|\n",
      "+----+---------+------------------+------------------+------------------+------------------+\n",
      "|2015|   2015.0|120.17575393253965|120.03999980555547|121.24452385714291| 118.8630954325397|\n",
      "|2013|   2013.0| 473.1281355634922| 472.6348802857143| 477.6389272301587|468.24710264682557|\n",
      "|2014|   2014.0| 295.1426195357143| 295.4023416507935|297.56103184523823| 292.9949599801587|\n",
      "|2012|   2012.0|     576.652720788| 576.0497195640002| 581.8254008040001| 569.9211606079999|\n",
      "|2016|   2016.0|104.50777772619044|104.60400786904763| 105.4271825436508|103.69027771825397|\n",
      "|2010|   2010.0| 259.9576190992064| 259.8424600000002|262.36880881349214|256.84761791269847|\n",
      "|2011|   2011.0|364.06142773412705|364.00432532142867| 367.4235704880951|360.29769878174613|\n",
      "+----+---------+------------------+------------------+------------------+------------------+\n",
      "\n"
     ]
    }
   ],
   "source": [
    "new_df.select(['Year', 'Open', 'Close', 'High', 'Low']).groupby('Year').mean().show()"
   ]
  },
  {
   "cell_type": "code",
   "execution_count": null,
   "id": "20413e2a-b113-4221-a1c5-3121c96ba40c",
   "metadata": {},
   "outputs": [],
   "source": []
  }
 ],
 "metadata": {
  "kernelspec": {
   "display_name": "Python 3 (ipykernel)",
   "language": "python",
   "name": "python3"
  },
  "language_info": {
   "codemirror_mode": {
    "name": "ipython",
    "version": 3
   },
   "file_extension": ".py",
   "mimetype": "text/x-python",
   "name": "python",
   "nbconvert_exporter": "python",
   "pygments_lexer": "ipython3",
   "version": "3.11.7"
  }
 },
 "nbformat": 4,
 "nbformat_minor": 5
}
