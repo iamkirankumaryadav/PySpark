{
 "cells": [
  {
   "cell_type": "code",
   "execution_count": 1,
   "id": "51a560f9-18cd-4994-b538-c6e5b252845b",
   "metadata": {},
   "outputs": [],
   "source": [
    "from pyspark.sql import SparkSession"
   ]
  },
  {
   "cell_type": "code",
   "execution_count": 2,
   "id": "7e70268e-f455-4e5d-a9fd-c64212bd922f",
   "metadata": {},
   "outputs": [],
   "source": [
    "spark = SparkSession.builder.appName('operations').getOrCreate()"
   ]
  },
  {
   "cell_type": "code",
   "execution_count": 3,
   "id": "dd3fd5cc-f57a-4efc-819f-6e24b047b94c",
   "metadata": {},
   "outputs": [],
   "source": [
    "sdf = spark.read.csv('./Data/stock.csv', inferSchema=True, header=True)"
   ]
  },
  {
   "cell_type": "code",
   "execution_count": 4,
   "id": "1fa3a17e-b363-46da-ba88-41d6e5dfffde",
   "metadata": {},
   "outputs": [
    {
     "name": "stdout",
     "output_type": "stream",
     "text": [
      "root\n",
      " |-- Date: date (nullable = true)\n",
      " |-- Open: double (nullable = true)\n",
      " |-- High: double (nullable = true)\n",
      " |-- Low: double (nullable = true)\n",
      " |-- Close: double (nullable = true)\n",
      " |-- Volume: integer (nullable = true)\n",
      " |-- Adj Close: double (nullable = true)\n",
      "\n"
     ]
    }
   ],
   "source": [
    "sdf.printSchema()"
   ]
  },
  {
   "cell_type": "code",
   "execution_count": 5,
   "id": "0d5c9a26-74e0-4737-87ba-936a283ac069",
   "metadata": {},
   "outputs": [
    {
     "name": "stdout",
     "output_type": "stream",
     "text": [
      "+----------+----------+----------+------------------+------------------+---------+------------------+\n",
      "|      Date|      Open|      High|               Low|             Close|   Volume|         Adj Close|\n",
      "+----------+----------+----------+------------------+------------------+---------+------------------+\n",
      "|2010-01-04|213.429998|214.499996|212.38000099999996|        214.009998|123432400|         27.727039|\n",
      "|2010-01-05|214.599998|215.589994|        213.249994|        214.379993|150476200|27.774976000000002|\n",
      "|2010-01-06|214.379993|    215.23|        210.750004|        210.969995|138040000|27.333178000000004|\n",
      "|2010-01-07|    211.75|212.000006|        209.050005|            210.58|119282800|          27.28265|\n",
      "|2010-01-08|210.299994|212.000006|209.06000500000002|211.98000499999998|111902700|         27.464034|\n",
      "+----------+----------+----------+------------------+------------------+---------+------------------+\n",
      "only showing top 5 rows\n",
      "\n"
     ]
    }
   ],
   "source": [
    "sdf.show(5)"
   ]
  },
  {
   "cell_type": "code",
   "execution_count": 6,
   "id": "c74a0f6d-7cc4-4a54-87dc-0465af960b03",
   "metadata": {},
   "outputs": [
    {
     "name": "stdout",
     "output_type": "stream",
     "text": [
      "+----------+----------+----------+------------------+------------------+---------+------------------+\n",
      "|      Date|      Open|      High|               Low|             Close|   Volume|         Adj Close|\n",
      "+----------+----------+----------+------------------+------------------+---------+------------------+\n",
      "|2010-01-04|213.429998|214.499996|212.38000099999996|        214.009998|123432400|         27.727039|\n",
      "|2010-01-05|214.599998|215.589994|        213.249994|        214.379993|150476200|27.774976000000002|\n",
      "|2010-01-06|214.379993|    215.23|        210.750004|        210.969995|138040000|27.333178000000004|\n",
      "|2010-01-07|    211.75|212.000006|        209.050005|            210.58|119282800|          27.28265|\n",
      "|2010-01-08|210.299994|212.000006|209.06000500000002|211.98000499999998|111902700|         27.464034|\n",
      "+----------+----------+----------+------------------+------------------+---------+------------------+\n",
      "only showing top 5 rows\n",
      "\n"
     ]
    }
   ],
   "source": [
    "sdf.filter('Close < 220').show(5)"
   ]
  },
  {
   "cell_type": "code",
   "execution_count": 7,
   "id": "3e8080df-4e5b-4f50-ad25-fa193ea498ec",
   "metadata": {},
   "outputs": [
    {
     "name": "stdout",
     "output_type": "stream",
     "text": [
      "+------------------+------------------+----------+----------+\n",
      "|              Open|              High|       Low|     Close|\n",
      "+------------------+------------------+----------+----------+\n",
      "|209.18999499999998|209.76999500000002|206.419998|207.720001|\n",
      "|210.11000299999998|210.45999700000002|209.020004|    209.43|\n",
      "|210.92999500000002|211.59999700000003|205.869999|    205.93|\n",
      "|        212.079994|213.30999599999998|207.210003|208.069996|\n",
      "|206.78000600000001|        207.499996|    197.16|    197.75|\n",
      "+------------------+------------------+----------+----------+\n",
      "only showing top 5 rows\n",
      "\n"
     ]
    }
   ],
   "source": [
    "sdf.filter('Close < 210').select(['Open', 'High', 'Low', 'Close']).show(5)"
   ]
  },
  {
   "cell_type": "code",
   "execution_count": 8,
   "id": "784340c9-bdf6-4ca0-b047-3ce673ee9fcf",
   "metadata": {},
   "outputs": [
    {
     "name": "stdout",
     "output_type": "stream",
     "text": [
      "+------------------+------------------+----------+----------+\n",
      "|              Open|              High|       Low|     Close|\n",
      "+------------------+------------------+----------+----------+\n",
      "|209.18999499999998|209.76999500000002|206.419998|207.720001|\n",
      "|210.11000299999998|210.45999700000002|209.020004|    209.43|\n",
      "|210.92999500000002|211.59999700000003|205.869999|    205.93|\n",
      "|        212.079994|213.30999599999998|207.210003|208.069996|\n",
      "|206.78000600000001|        207.499996|    197.16|    197.75|\n",
      "+------------------+------------------+----------+----------+\n",
      "only showing top 5 rows\n",
      "\n"
     ]
    }
   ],
   "source": [
    "sdf.filter(sdf['Close'] < 210).select(['Open', 'High', 'Low', 'Close']).show(5)"
   ]
  },
  {
   "cell_type": "code",
   "execution_count": 9,
   "id": "a2d15148-b06c-4456-aa5d-154badc71211",
   "metadata": {},
   "outputs": [
    {
     "name": "stdout",
     "output_type": "stream",
     "text": [
      "+------------------+----------+----------+----------+\n",
      "|              Open|      High|       Low|     Close|\n",
      "+------------------+----------+----------+----------+\n",
      "|206.78000600000001|207.499996|    197.16|    197.75|\n",
      "|        204.930004|205.500004|198.699995|199.289995|\n",
      "|        201.079996|202.199995|190.250002|192.060003|\n",
      "+------------------+----------+----------+----------+\n",
      "\n"
     ]
    }
   ],
   "source": [
    "sdf.filter((sdf['Close'] < 200) & (sdf['Open'] > 200)).select(['Open', 'High', 'Low', 'Close']).show(5)"
   ]
  },
  {
   "cell_type": "code",
   "execution_count": 10,
   "id": "e71f0aa8-6c4f-45e1-9f30-74c0d6377e45",
   "metadata": {},
   "outputs": [
    {
     "name": "stdout",
     "output_type": "stream",
     "text": [
      "+----------+----------+------------------+------------------+\n",
      "|      Open|      High|               Low|             Close|\n",
      "+----------+----------+------------------+------------------+\n",
      "|213.429998|214.499996|212.38000099999996|        214.009998|\n",
      "|214.599998|215.589994|        213.249994|        214.379993|\n",
      "|214.379993|    215.23|        210.750004|        210.969995|\n",
      "|    211.75|212.000006|        209.050005|            210.58|\n",
      "|210.299994|212.000006|209.06000500000002|211.98000499999998|\n",
      "+----------+----------+------------------+------------------+\n",
      "only showing top 5 rows\n",
      "\n"
     ]
    }
   ],
   "source": [
    "sdf.filter(~(sdf['Close'] < 200) & (sdf['Open'] > 200)).select(['Open', 'High', 'Low', 'Close']).show(5)"
   ]
  },
  {
   "cell_type": "code",
   "execution_count": 11,
   "id": "fb30e698-2ad1-4790-b7db-3c414990222b",
   "metadata": {},
   "outputs": [
    {
     "name": "stdout",
     "output_type": "stream",
     "text": [
      "+------+----------+----------+------+\n",
      "|  Open|      High|       Low| Close|\n",
      "+------+----------+----------+------+\n",
      "|211.75|212.000006|209.050005|210.58|\n",
      "+------+----------+----------+------+\n",
      "\n"
     ]
    }
   ],
   "source": [
    "sdf.filter(sdf['Open'] == 211.75).select(['Open', 'High', 'Low', 'Close']).show(5)"
   ]
  },
  {
   "cell_type": "code",
   "execution_count": 12,
   "id": "98ccb874-6dcb-421a-ae58-d6ed48ddc918",
   "metadata": {},
   "outputs": [],
   "source": [
    "open = sdf.filter(sdf['Open'] == 211.75).select(['Open', 'High', 'Low', 'Close']).collect()"
   ]
  },
  {
   "cell_type": "code",
   "execution_count": 13,
   "id": "8a37a155-0a7f-4d86-b093-f2471745ea32",
   "metadata": {},
   "outputs": [
    {
     "data": {
      "text/plain": [
       "[Row(Open=211.75, High=212.000006, Low=209.050005, Close=210.58)]"
      ]
     },
     "execution_count": 13,
     "metadata": {},
     "output_type": "execute_result"
    }
   ],
   "source": [
    "open"
   ]
  },
  {
   "cell_type": "code",
   "execution_count": 14,
   "id": "5e56144a-6cc1-473b-a241-f46492a528b0",
   "metadata": {},
   "outputs": [
    {
     "data": {
      "text/plain": [
       "Row(Open=211.75, High=212.000006, Low=209.050005, Close=210.58)"
      ]
     },
     "execution_count": 14,
     "metadata": {},
     "output_type": "execute_result"
    }
   ],
   "source": [
    "open[0]"
   ]
  },
  {
   "cell_type": "code",
   "execution_count": 15,
   "id": "5d36a6e5-cee1-4f28-a122-7b364acad8bf",
   "metadata": {},
   "outputs": [
    {
     "data": {
      "text/plain": [
       "{'Open': 211.75, 'High': 212.000006, 'Low': 209.050005, 'Close': 210.58}"
      ]
     },
     "execution_count": 15,
     "metadata": {},
     "output_type": "execute_result"
    }
   ],
   "source": [
    "open[0].asDict()"
   ]
  },
  {
   "cell_type": "code",
   "execution_count": 16,
   "id": "2bd44f83-6bed-4349-a728-d3ef8e410fc9",
   "metadata": {},
   "outputs": [
    {
     "data": {
      "text/plain": [
       "212.000006"
      ]
     },
     "execution_count": 16,
     "metadata": {},
     "output_type": "execute_result"
    }
   ],
   "source": [
    "# Grab key value from dictionary:\n",
    "open[0].asDict()['High']"
   ]
  },
  {
   "cell_type": "code",
   "execution_count": 17,
   "id": "1e8806a3-650d-4e00-8d8d-be94353daf6a",
   "metadata": {},
   "outputs": [],
   "source": [
    "sales = spark.read.csv('./Data/sales.csv', inferSchema=True, header=True)"
   ]
  },
  {
   "cell_type": "code",
   "execution_count": 18,
   "id": "f3484192-336c-4525-8c1a-4eeec5799ff4",
   "metadata": {},
   "outputs": [
    {
     "name": "stdout",
     "output_type": "stream",
     "text": [
      "+-------+-------+-----+\n",
      "|Company| Person|Sales|\n",
      "+-------+-------+-----+\n",
      "|   GOOG|    Sam|200.0|\n",
      "|   GOOG|Charlie|120.0|\n",
      "|   GOOG|  Frank|340.0|\n",
      "|   MSFT|   Tina|600.0|\n",
      "|   MSFT|    Amy|124.0|\n",
      "+-------+-------+-----+\n",
      "only showing top 5 rows\n",
      "\n"
     ]
    }
   ],
   "source": [
    "sales.show(5)"
   ]
  },
  {
   "cell_type": "code",
   "execution_count": 19,
   "id": "fa7bcbf9-dc65-4818-ac7d-e5ef9ec5da13",
   "metadata": {},
   "outputs": [
    {
     "name": "stdout",
     "output_type": "stream",
     "text": [
      "root\n",
      " |-- Company: string (nullable = true)\n",
      " |-- Person: string (nullable = true)\n",
      " |-- Sales: double (nullable = true)\n",
      "\n"
     ]
    }
   ],
   "source": [
    "sales.printSchema()"
   ]
  },
  {
   "cell_type": "code",
   "execution_count": 20,
   "id": "791aa66b-a1b7-4d17-9743-ca75c956e973",
   "metadata": {},
   "outputs": [
    {
     "name": "stdout",
     "output_type": "stream",
     "text": [
      "+-------+-----------------+\n",
      "|Company|       avg(Sales)|\n",
      "+-------+-----------------+\n",
      "|   APPL|            370.0|\n",
      "|   GOOG|            220.0|\n",
      "|     FB|            610.0|\n",
      "|   MSFT|322.3333333333333|\n",
      "+-------+-----------------+\n",
      "\n"
     ]
    }
   ],
   "source": [
    "sales.groupby('Company').mean().show()"
   ]
  },
  {
   "cell_type": "code",
   "execution_count": 21,
   "id": "22e228a3-7ddf-426e-a8c1-888d83ddcca2",
   "metadata": {},
   "outputs": [
    {
     "name": "stdout",
     "output_type": "stream",
     "text": [
      "+-------+-----+\n",
      "|Company|count|\n",
      "+-------+-----+\n",
      "|   APPL|    4|\n",
      "|   GOOG|    3|\n",
      "|     FB|    2|\n",
      "|   MSFT|    3|\n",
      "+-------+-----+\n",
      "\n"
     ]
    }
   ],
   "source": [
    "sales.groupby('Company').count().show()"
   ]
  },
  {
   "cell_type": "code",
   "execution_count": 22,
   "id": "c3135285-57e4-4edf-ba86-d27cb3905637",
   "metadata": {},
   "outputs": [
    {
     "name": "stdout",
     "output_type": "stream",
     "text": [
      "+-------+----------+\n",
      "|Company|sum(Sales)|\n",
      "+-------+----------+\n",
      "|   APPL|    1480.0|\n",
      "|   GOOG|     660.0|\n",
      "|     FB|    1220.0|\n",
      "|   MSFT|     967.0|\n",
      "+-------+----------+\n",
      "\n"
     ]
    }
   ],
   "source": [
    "sales.groupby('Company').sum().show()"
   ]
  },
  {
   "cell_type": "code",
   "execution_count": 23,
   "id": "28e7f476-ab20-4645-8d4c-12d156feb70b",
   "metadata": {},
   "outputs": [
    {
     "name": "stdout",
     "output_type": "stream",
     "text": [
      "+-------+----------+\n",
      "|Company|min(Sales)|\n",
      "+-------+----------+\n",
      "|   APPL|     130.0|\n",
      "|   GOOG|     120.0|\n",
      "|     FB|     350.0|\n",
      "|   MSFT|     124.0|\n",
      "+-------+----------+\n",
      "\n"
     ]
    }
   ],
   "source": [
    "sales.groupby('Company').min().show()"
   ]
  },
  {
   "cell_type": "code",
   "execution_count": 24,
   "id": "0f4c0119-27ec-4a28-bf1e-420d08a3354a",
   "metadata": {},
   "outputs": [
    {
     "name": "stdout",
     "output_type": "stream",
     "text": [
      "+-------+----------+\n",
      "|Company|max(Sales)|\n",
      "+-------+----------+\n",
      "|   APPL|     750.0|\n",
      "|   GOOG|     340.0|\n",
      "|     FB|     870.0|\n",
      "|   MSFT|     600.0|\n",
      "+-------+----------+\n",
      "\n"
     ]
    }
   ],
   "source": [
    "sales.groupby('Company').max().show()"
   ]
  },
  {
   "cell_type": "code",
   "execution_count": 25,
   "id": "7cafd9c2-8b1a-40bc-b8df-bc0fb4a81321",
   "metadata": {},
   "outputs": [
    {
     "name": "stdout",
     "output_type": "stream",
     "text": [
      "+-------+----------+-----------+\n",
      "|Company|sum(Sales)|max(Person)|\n",
      "+-------+----------+-----------+\n",
      "|   APPL|    1480.0|       Mike|\n",
      "|     FB|    1220.0|      Sarah|\n",
      "|   GOOG|     660.0|        Sam|\n",
      "|   MSFT|     967.0|    Vanessa|\n",
      "+-------+----------+-----------+\n",
      "\n"
     ]
    }
   ],
   "source": [
    "sales.groupby('Company').agg({'Sales':'sum', 'Person':'max'}).show()"
   ]
  },
  {
   "cell_type": "code",
   "execution_count": 26,
   "id": "d77d7585-bf5a-4fc0-ace2-2882f2ebd03c",
   "metadata": {},
   "outputs": [],
   "source": [
    "from pyspark.sql.functions import countDistinct, avg, stddev"
   ]
  },
  {
   "cell_type": "code",
   "execution_count": 27,
   "id": "56bb573f-f015-43eb-b63b-b6057d7d7069",
   "metadata": {},
   "outputs": [
    {
     "name": "stdout",
     "output_type": "stream",
     "text": [
      "+---------------------+\n",
      "|count(DISTINCT Sales)|\n",
      "+---------------------+\n",
      "|                   11|\n",
      "+---------------------+\n",
      "\n"
     ]
    }
   ],
   "source": [
    "sales.select(countDistinct('Sales')).show()"
   ]
  },
  {
   "cell_type": "code",
   "execution_count": 28,
   "id": "16291d7e-2e3c-4469-a906-4297ffd73c3c",
   "metadata": {},
   "outputs": [
    {
     "name": "stdout",
     "output_type": "stream",
     "text": [
      "+-----------------+\n",
      "|    Average Sales|\n",
      "+-----------------+\n",
      "|360.5833333333333|\n",
      "+-----------------+\n",
      "\n"
     ]
    }
   ],
   "source": [
    "sales.select(avg('Sales').alias('Average Sales')).show()"
   ]
  },
  {
   "cell_type": "code",
   "execution_count": 29,
   "id": "7c1a2152-9704-4370-9238-b2997dd7146a",
   "metadata": {},
   "outputs": [
    {
     "name": "stdout",
     "output_type": "stream",
     "text": [
      "+------------------+\n",
      "|stddev_samp(Sales)|\n",
      "+------------------+\n",
      "|250.08742410799007|\n",
      "+------------------+\n",
      "\n"
     ]
    }
   ],
   "source": [
    "sales.select(stddev('Sales')).show()"
   ]
  },
  {
   "cell_type": "code",
   "execution_count": 30,
   "id": "67c7a7d6-97a1-437f-a516-86f671175e12",
   "metadata": {},
   "outputs": [],
   "source": [
    "from pyspark.sql.functions import format_number"
   ]
  },
  {
   "cell_type": "code",
   "execution_count": 31,
   "id": "13eb81b6-49ff-40b6-af6f-36a794053da3",
   "metadata": {},
   "outputs": [
    {
     "name": "stdout",
     "output_type": "stream",
     "text": [
      "+------------------+\n",
      "|               STD|\n",
      "+------------------+\n",
      "|250.08742410799007|\n",
      "+------------------+\n",
      "\n"
     ]
    }
   ],
   "source": [
    "sales.select(stddev('Sales').alias('STD')).show()"
   ]
  },
  {
   "cell_type": "code",
   "execution_count": 32,
   "id": "2660f0c8-10d1-40cb-bb6f-04e4e3a27b6f",
   "metadata": {},
   "outputs": [
    {
     "name": "stdout",
     "output_type": "stream",
     "text": [
      "+------------------+\n",
      "|Standard Deviation|\n",
      "+------------------+\n",
      "|            250.09|\n",
      "+------------------+\n",
      "\n"
     ]
    }
   ],
   "source": [
    "sales.select(format_number(stddev('Sales'), 2).alias('Standard Deviation')).show()"
   ]
  },
  {
   "cell_type": "code",
   "execution_count": 33,
   "id": "a0bfaff7-dcd9-463f-8600-12c35d9af571",
   "metadata": {},
   "outputs": [
    {
     "name": "stdout",
     "output_type": "stream",
     "text": [
      "+-------+-------+-----+\n",
      "|Company| Person|Sales|\n",
      "+-------+-------+-----+\n",
      "|   GOOG|Charlie|120.0|\n",
      "|   MSFT|    Amy|124.0|\n",
      "|   APPL|  Linda|130.0|\n",
      "|   GOOG|    Sam|200.0|\n",
      "|   MSFT|Vanessa|243.0|\n",
      "|   APPL|   John|250.0|\n",
      "|   GOOG|  Frank|340.0|\n",
      "|     FB|  Sarah|350.0|\n",
      "|   APPL|  Chris|350.0|\n",
      "|   MSFT|   Tina|600.0|\n",
      "|   APPL|   Mike|750.0|\n",
      "|     FB|   Carl|870.0|\n",
      "+-------+-------+-----+\n",
      "\n"
     ]
    }
   ],
   "source": [
    "sales.orderBy('Sales').show()"
   ]
  },
  {
   "cell_type": "code",
   "execution_count": 34,
   "id": "2f5e6d43-5633-4f4a-8ada-6371da45df04",
   "metadata": {},
   "outputs": [
    {
     "name": "stdout",
     "output_type": "stream",
     "text": [
      "+-------+-------+-----+\n",
      "|Company| Person|Sales|\n",
      "+-------+-------+-----+\n",
      "|     FB|   Carl|870.0|\n",
      "|   APPL|   Mike|750.0|\n",
      "|   MSFT|   Tina|600.0|\n",
      "|     FB|  Sarah|350.0|\n",
      "|   APPL|  Chris|350.0|\n",
      "|   GOOG|  Frank|340.0|\n",
      "|   APPL|   John|250.0|\n",
      "|   MSFT|Vanessa|243.0|\n",
      "|   GOOG|    Sam|200.0|\n",
      "|   APPL|  Linda|130.0|\n",
      "|   MSFT|    Amy|124.0|\n",
      "|   GOOG|Charlie|120.0|\n",
      "+-------+-------+-----+\n",
      "\n"
     ]
    }
   ],
   "source": [
    "sales.orderBy(sales['Sales'].desc()).show()"
   ]
  },
  {
   "cell_type": "code",
   "execution_count": 35,
   "id": "de5ecc21-9ed4-4029-a292-3c4fbffe7938",
   "metadata": {},
   "outputs": [],
   "source": [
    "data = spark.read.csv('./Data/containsNULL.csv', inferSchema=True, header=True)"
   ]
  },
  {
   "cell_type": "code",
   "execution_count": 36,
   "id": "70629bb5-87bd-4005-9265-bbcf6b5bf737",
   "metadata": {},
   "outputs": [
    {
     "name": "stdout",
     "output_type": "stream",
     "text": [
      "+----+-----+-----+\n",
      "|  Id| Name|Sales|\n",
      "+----+-----+-----+\n",
      "|emp1| John| null|\n",
      "|emp2| null| null|\n",
      "|emp3| null|345.0|\n",
      "|emp4|Cindy|456.0|\n",
      "+----+-----+-----+\n",
      "\n"
     ]
    }
   ],
   "source": [
    "data.show(5)"
   ]
  },
  {
   "cell_type": "code",
   "execution_count": 37,
   "id": "5c887f3c-3951-4b73-8c80-08503d11d824",
   "metadata": {},
   "outputs": [
    {
     "name": "stdout",
     "output_type": "stream",
     "text": [
      "root\n",
      " |-- Id: string (nullable = true)\n",
      " |-- Name: string (nullable = true)\n",
      " |-- Sales: double (nullable = true)\n",
      "\n"
     ]
    }
   ],
   "source": [
    "data.printSchema()"
   ]
  },
  {
   "cell_type": "code",
   "execution_count": 38,
   "id": "18b41835-f2ee-4f47-bb2d-15f9ba89fbbd",
   "metadata": {},
   "outputs": [
    {
     "name": "stdout",
     "output_type": "stream",
     "text": [
      "+----+-----+-----+\n",
      "|  Id| Name|Sales|\n",
      "+----+-----+-----+\n",
      "|emp4|Cindy|456.0|\n",
      "+----+-----+-----+\n",
      "\n"
     ]
    }
   ],
   "source": [
    "data.na.drop().show()"
   ]
  },
  {
   "cell_type": "code",
   "execution_count": 39,
   "id": "0f3145bc-4b1e-486d-a519-5e69647d41de",
   "metadata": {},
   "outputs": [
    {
     "name": "stdout",
     "output_type": "stream",
     "text": [
      "+----+-----+-----+\n",
      "|  Id| Name|Sales|\n",
      "+----+-----+-----+\n",
      "|emp1| John| null|\n",
      "|emp3| null|345.0|\n",
      "|emp4|Cindy|456.0|\n",
      "+----+-----+-----+\n",
      "\n"
     ]
    }
   ],
   "source": [
    "data.na.drop(thresh=2).show()"
   ]
  },
  {
   "cell_type": "code",
   "execution_count": 40,
   "id": "c76cab70-7e12-4156-982c-11741de0ac6d",
   "metadata": {},
   "outputs": [
    {
     "name": "stdout",
     "output_type": "stream",
     "text": [
      "+----+-----+-----+\n",
      "|  Id| Name|Sales|\n",
      "+----+-----+-----+\n",
      "|emp1| John| null|\n",
      "|emp2| null| null|\n",
      "|emp3| null|345.0|\n",
      "|emp4|Cindy|456.0|\n",
      "+----+-----+-----+\n",
      "\n"
     ]
    }
   ],
   "source": [
    "data.na.drop(how='all').show() # All the row values should have NULL"
   ]
  },
  {
   "cell_type": "code",
   "execution_count": 41,
   "id": "6ef23af9-d661-4c63-af3b-14c8abe14625",
   "metadata": {},
   "outputs": [
    {
     "name": "stdout",
     "output_type": "stream",
     "text": [
      "+----+-----+-----+\n",
      "|  Id| Name|Sales|\n",
      "+----+-----+-----+\n",
      "|emp3| null|345.0|\n",
      "|emp4|Cindy|456.0|\n",
      "+----+-----+-----+\n",
      "\n"
     ]
    }
   ],
   "source": [
    "data.na.drop(subset='Sales').show()"
   ]
  },
  {
   "cell_type": "code",
   "execution_count": 42,
   "id": "1dffb162-7b6d-4f85-bf4e-82ac946a0149",
   "metadata": {},
   "outputs": [
    {
     "name": "stdout",
     "output_type": "stream",
     "text": [
      "+----+-----+-----+\n",
      "|  Id| Name|Sales|\n",
      "+----+-----+-----+\n",
      "|emp1| John| null|\n",
      "|emp4|Cindy|456.0|\n",
      "+----+-----+-----+\n",
      "\n"
     ]
    }
   ],
   "source": [
    "data.na.drop(subset='Name').show()"
   ]
  },
  {
   "cell_type": "code",
   "execution_count": 43,
   "id": "61e42afc-07fa-45f9-8eda-bf93e522a598",
   "metadata": {},
   "outputs": [
    {
     "name": "stdout",
     "output_type": "stream",
     "text": [
      "+----+-------+-----+\n",
      "|  Id|   Name|Sales|\n",
      "+----+-------+-----+\n",
      "|emp1|   John| null|\n",
      "|emp2|No Name| null|\n",
      "|emp3|No Name|345.0|\n",
      "|emp4|  Cindy|456.0|\n",
      "+----+-------+-----+\n",
      "\n"
     ]
    }
   ],
   "source": [
    "data.na.fill(value='No Name', subset='Name').show()"
   ]
  },
  {
   "cell_type": "code",
   "execution_count": 44,
   "id": "2a27d15b-b80b-4a45-b93e-86f85ae40507",
   "metadata": {},
   "outputs": [
    {
     "name": "stdout",
     "output_type": "stream",
     "text": [
      "+----+-----+-----+\n",
      "|  Id| Name|Sales|\n",
      "+----+-----+-----+\n",
      "|emp1| John|  0.0|\n",
      "|emp2| null|  0.0|\n",
      "|emp3| null|345.0|\n",
      "|emp4|Cindy|456.0|\n",
      "+----+-----+-----+\n",
      "\n"
     ]
    }
   ],
   "source": [
    "data.na.fill(value=0, subset='Sales').show()"
   ]
  },
  {
   "cell_type": "code",
   "execution_count": 45,
   "id": "99266d71-e2f3-4eea-be4d-2229fc969049",
   "metadata": {},
   "outputs": [],
   "source": [
    "from pyspark.sql.functions import mean"
   ]
  },
  {
   "cell_type": "code",
   "execution_count": 46,
   "id": "50387049-521d-4a65-870c-85b16a2c22fa",
   "metadata": {},
   "outputs": [
    {
     "data": {
      "text/plain": [
       "[Row(avg(Sales)=400.5)]"
      ]
     },
     "execution_count": 46,
     "metadata": {},
     "output_type": "execute_result"
    }
   ],
   "source": [
    "average = data.select(mean(data['Sales'])).collect()\n",
    "average"
   ]
  },
  {
   "cell_type": "code",
   "execution_count": 47,
   "id": "cee41973-e5d8-4600-99a6-c249fc265179",
   "metadata": {},
   "outputs": [
    {
     "data": {
      "text/plain": [
       "400.5"
      ]
     },
     "execution_count": 47,
     "metadata": {},
     "output_type": "execute_result"
    }
   ],
   "source": [
    "mean_value = average[0][0]\n",
    "mean_value"
   ]
  },
  {
   "cell_type": "code",
   "execution_count": 48,
   "id": "8c2aaab3-6400-4262-8a10-7ca443039947",
   "metadata": {},
   "outputs": [
    {
     "name": "stdout",
     "output_type": "stream",
     "text": [
      "+----+-----+-----+\n",
      "|  Id| Name|Sales|\n",
      "+----+-----+-----+\n",
      "|emp1| John|400.5|\n",
      "|emp2| null|400.5|\n",
      "|emp3| null|345.0|\n",
      "|emp4|Cindy|456.0|\n",
      "+----+-----+-----+\n",
      "\n"
     ]
    }
   ],
   "source": [
    "data.na.fill(value=mean_value, subset='Sales').show()"
   ]
  },
  {
   "cell_type": "code",
   "execution_count": null,
   "id": "b6d4f04e-3360-4de1-aeb2-934f7083d9cf",
   "metadata": {},
   "outputs": [],
   "source": []
  }
 ],
 "metadata": {
  "kernelspec": {
   "display_name": "Python 3 (ipykernel)",
   "language": "python",
   "name": "python3"
  },
  "language_info": {
   "codemirror_mode": {
    "name": "ipython",
    "version": 3
   },
   "file_extension": ".py",
   "mimetype": "text/x-python",
   "name": "python",
   "nbconvert_exporter": "python",
   "pygments_lexer": "ipython3",
   "version": "3.11.7"
  }
 },
 "nbformat": 4,
 "nbformat_minor": 5
}
